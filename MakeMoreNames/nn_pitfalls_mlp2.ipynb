{
 "cells": [
  {
   "cell_type": "markdown",
   "metadata": {},
   "source": [
    "## Setup\n",
    "- Imports\n",
    "- Load and preprocess data"
   ]
  },
  {
   "cell_type": "code",
   "execution_count": 2,
   "metadata": {},
   "outputs": [],
   "source": [
    "import torch\n",
    "import torch.nn.functional as F"
   ]
  },
  {
   "cell_type": "code",
   "execution_count": 1,
   "metadata": {},
   "outputs": [],
   "source": [
    "vocab = [] # all poosible characters in the training corpus\n",
    "itoc = {} # index to character mapping\n",
    "ctoi = {} # character to index mapping\n",
    "for i in range(26):\n",
    "    c = chr(i+ord('a'))\n",
    "    vocab.append(c)\n",
    "    ctoi[c] = i+1\n",
    "    itoc[i+1] = c\n",
    "\n",
    "vocab.append('.')\n",
    "itoc[0] = '.'\n",
    "ctoi['.'] = 0"
   ]
  },
  {
   "cell_type": "code",
   "execution_count": 3,
   "metadata": {},
   "outputs": [],
   "source": [
    "with open('./names.txt', 'r') as f:\n",
    "    words = [word.strip() for word in f.readlines()]"
   ]
  },
  {
   "cell_type": "code",
   "execution_count": 38,
   "metadata": {},
   "outputs": [],
   "source": [
    "block_size = 3 # previous context size\n",
    "def create_dataset(names):\n",
    "    X = []\n",
    "    y = []\n",
    "    for name in names:\n",
    "        context = [0]*block_size # initialize previous context of each word with '...', which translates to [0,0,0] indices in the vocab\n",
    "        for c in name.strip() + '.': # append '.' to the end of name to capture ending sequences of each name\n",
    "            label = ctoi[c] # vocab index of the current character in name\n",
    "            X.append(context)\n",
    "            y.append(label)\n",
    "            context = context[1:] + [label]\n",
    "    return torch.tensor(X), torch.tensor(y)\n",
    "\n",
    "import random\n",
    "random.seed(1937)\n",
    "random.shuffle(words) # randomly shuffles the list of words, reduces the gap between train/dev errors! WHY??!\n",
    "total_data_size = len(words)\n",
    "train_size = int(total_data_size*0.8)\n",
    "dev_size = int(total_data_size*0.1)\n",
    "Xtr, ytr = create_dataset(words[:train_size])\n",
    "Xdev, ydev = create_dataset(words[train_size:train_size+dev_size])\n",
    "Xtest, ytest = create_dataset(words[train_size+dev_size:])\n"
   ]
  },
  {
   "cell_type": "markdown",
   "metadata": {},
   "source": [
    "## Build the MLP\n",
    "- will be used as reference for explanations ahead in the code"
   ]
  },
  {
   "cell_type": "code",
   "execution_count": 39,
   "metadata": {},
   "outputs": [
    {
     "data": {
      "text/plain": [
       "9367"
      ]
     },
     "execution_count": 39,
     "metadata": {},
     "output_type": "execute_result"
    }
   ],
   "source": [
    "g = torch.Generator().manual_seed(66449941) # for reproducibility\n",
    "vocab_size = len(vocab)\n",
    "emb_dimensions = 10\n",
    "hidden_layer_size = 200\n",
    "output_layer_size = vocab_size\n",
    "C = torch.randn((vocab_size, emb_dimensions), generator=g)\n",
    "W1 = torch.randn((block_size*emb_dimensions, hidden_layer_size), generator = g)\n",
    "b1 = torch.randn((hidden_layer_size), generator=g)\n",
    "W2 = torch.randn((hidden_layer_size, output_layer_size), generator = g)\n",
    "b2 = torch.randn((output_layer_size), generator = g)\n",
    "parameters = [C, W1, b1, W2, b2]\n",
    "\n",
    "for p in parameters:\n",
    "    p.requires_grad = True\n",
    "\n",
    "total_parameters = sum(p.nelement() for p in parameters)\n",
    "total_parameters"
   ]
  },
  {
   "cell_type": "code",
   "execution_count": 41,
   "metadata": {},
   "outputs": [
    {
     "name": "stdout",
     "output_type": "stream",
     "text": [
      "      0/ 200000: 17.0453\n",
      "  10000/ 200000: 2.1651\n",
      "  20000/ 200000: 2.3421\n",
      "  30000/ 200000: 2.5685\n",
      "  40000/ 200000: 2.0644\n",
      "  50000/ 200000: 2.3014\n",
      "  60000/ 200000: 2.2805\n",
      "  70000/ 200000: 2.4262\n",
      "  80000/ 200000: 2.0969\n",
      "  90000/ 200000: 2.2885\n",
      " 100000/ 200000: 2.2696\n",
      " 110000/ 200000: 2.2033\n",
      " 120000/ 200000: 2.1952\n",
      " 130000/ 200000: 2.4137\n",
      " 140000/ 200000: 2.1973\n",
      " 150000/ 200000: 2.1784\n",
      " 160000/ 200000: 2.5361\n",
      " 170000/ 200000: 2.2473\n",
      " 180000/ 200000: 2.0071\n",
      " 190000/ 200000: 2.1565\n"
     ]
    }
   ],
   "source": [
    "log_losses = []\n",
    "num_iterations = 200000\n",
    "mini_batch_size = 32\n",
    "\n",
    "for i in range(num_iterations):\n",
    "    # randomly sample minibatch indices\n",
    "    ix = torch.randint(0, Xtr.shape[0], (mini_batch_size,))\n",
    "    # forward pass\n",
    "    emb = C[Xtr[ix]]\n",
    "    a1 = torch.tanh((emb.view(-1, block_size*emb_dimensions) @ W1 + b1))\n",
    "    logits = a1 @ W2 + b2\n",
    "    loss = F.cross_entropy(logits, ytr[ix])\n",
    "    if i%10000==0:\n",
    "        print(f'{i:7d}/{num_iterations:7d}: {loss.item():.4f}') # 7d aligns the outputs for readability\n",
    "    # backward pass\n",
    "    for p in parameters:\n",
    "        p.grad = None\n",
    "    loss.backward()\n",
    "    learning_rate = 0.1 if i < num_iterations//2 else 0.01\n",
    "    for p in parameters:\n",
    "        p.data += -learning_rate*p.grad\n",
    "    log_losses.append(loss.log10().item())"
   ]
  },
  {
   "cell_type": "code",
   "execution_count": 42,
   "metadata": {},
   "outputs": [
    {
     "data": {
      "text/plain": [
       "[<matplotlib.lines.Line2D at 0x2c491564b90>]"
      ]
     },
     "execution_count": 42,
     "metadata": {},
     "output_type": "execute_result"
    },
    {
     "data": {
      "image/png": "[encoded data removed]",
      "text/plain": [
       "<Figure size 640x480 with 1 Axes>"
      ]
     },
     "metadata": {},
     "output_type": "display_data"
    }
   ],
   "source": [
    "from matplotlib import pyplot as plt\n",
    "plt.plot(log_losses)"
   ]
  },
  {
   "cell_type": "code",
   "execution_count": 29,
   "metadata": {},
   "outputs": [],
   "source": [
    "@torch.no_grad()\n",
    "def evaluate(split):\n",
    "    X, y = {'train':[Xtr, ytr],\n",
    "            'dev':[Xdev, ydev],\n",
    "            'test':[Xtest, ytest]\n",
    "            }[split]\n",
    "    emb = C[X]\n",
    "    a1 = torch.tanh(emb.view(-1, block_size*emb_dimensions) @ W1 + b1)\n",
    "    logits = a1 @ W2 + b2\n",
    "    return F.cross_entropy(logits, y).item()"
   ]
  },
  {
   "cell_type": "code",
   "execution_count": 43,
   "metadata": {},
   "outputs": [
    {
     "data": {
      "text/plain": [
       "(2.115313768386841, 2.1721436977386475, 2.1816470623016357)"
      ]
     },
     "execution_count": 43,
     "metadata": {},
     "output_type": "execute_result"
    }
   ],
   "source": [
    "evaluate('train'), evaluate('dev'), evaluate('test')"
   ]
  },
  {
   "cell_type": "markdown",
   "metadata": {},
   "source": [
    "## Fixing initial loss"
   ]
  },
  {
   "cell_type": "markdown",
   "metadata": {},
   "source": [
    "#### expected inital loss\n",
    "- first we need to set the right expectations\n",
    "- what can be the worst possible initial loss?\n",
    "    - depends on the problem and the loss function\n",
    "    - almost always possible to estimate this quantity beforehand\n",
    "    - helps start strong in training loop\n",
    "- In our case worst loss intial loss:\n",
    "    - negative log likelihood\n",
    "    - worst possible model would be when the prob of each token coming next is equal = 1/vocab_size => model hasen't learnt anything\n",
    "    - we take only 1/vocab_size [single probability] as we are predicting single token\n",
    "    - in our case that's prob = 1/27.0 => negative log likelihood = -log(prob) ~ (3,4)\n",
    "- but the initial loss we got is 17 which is way off [though its averaged over 1st mini-batch]\n",
    "- this is due to improper initialization of parameters"
   ]
  },
  {
   "cell_type": "code",
   "execution_count": 47,
   "metadata": {},
   "outputs": [
    {
     "data": {
      "text/plain": [
       "tensor(3.2958)"
      ]
     },
     "execution_count": 47,
     "metadata": {},
     "output_type": "execute_result"
    }
   ],
   "source": [
    "expected_loss = -torch.tensor(1/27.0).log()\n",
    "expected_loss"
   ]
  },
  {
   "cell_type": "markdown",
   "metadata": {},
   "source": [
    "#### example of issue\n",
    "- vocab = [a, b, c, d], vocab_size = 4\n",
    "- if logits are almost equal, the softmax probs would also be almost equal and\n",
    "- hence the loss would be approx equal to expected loss = -log(1/4.0) ~ 1.39"
   ]
  },
  {
   "cell_type": "code",
   "execution_count": 49,
   "metadata": {},
   "outputs": [
    {
     "data": {
      "text/plain": [
       "(tensor([0.2500, 0.2500, 0.2500, 0.2500]), tensor(1.3863))"
      ]
     },
     "execution_count": 49,
     "metadata": {},
     "output_type": "execute_result"
    }
   ],
   "source": [
    "logits = torch.tensor([0.0, 0.0, 0.0, 0.0]) # say we got these logits from the intial model parameters [0th iteration -> no learning yet]\n",
    "probs = torch.softmax(logits, dim=0)\n",
    "loss = -probs[2].log() # peek into the probability of the token 'c' appearing next and calculate the nll\n",
    "probs, loss"
   ]
  },
  {
   "cell_type": "markdown",
   "metadata": {},
   "source": [
    "- as we can see, equal probabilities and hence got expected loss\n",
    "- another example\n",
    "    - say due to initialization we accidentally get too high logit value for the expected next token in the minibatch examples\n",
    "    - and very low logits for the other tokens\n",
    "    - then initial loss would be very low than expected worst case!!"
   ]
  },
  {
   "cell_type": "code",
   "execution_count": 50,
   "metadata": {},
   "outputs": [
    {
     "data": {
      "text/plain": [
       "(tensor([0.0066, 0.0066, 0.9802, 0.0066]), tensor(0.0200))"
      ]
     },
     "execution_count": 50,
     "metadata": {},
     "output_type": "execute_result"
    }
   ],
   "source": [
    "logits = torch.tensor([0.0, 0.0, 5.0, 0.0]) # high logit for 'c' token\n",
    "probs = torch.softmax(logits, dim=0)\n",
    "loss = -probs[2].log() # peek into the probability of the token 'c' appearing next and calculate the nll\n",
    "probs, loss"
   ]
  },
  {
   "cell_type": "markdown",
   "metadata": {},
   "source": [
    "- loss is almost zero!!\n",
    "- another example\n",
    "    - now let's set logits higher for unexpected tokens and lower for expected token\n",
    "    - loss would be higher than expected worst case"
   ]
  },
  {
   "cell_type": "code",
   "execution_count": 51,
   "metadata": {},
   "outputs": [
    {
     "data": {
      "text/plain": [
       "(tensor([0.0066, 0.9802, 0.0066, 0.0066]), tensor(5.0200))"
      ]
     },
     "execution_count": 51,
     "metadata": {},
     "output_type": "execute_result"
    }
   ],
   "source": [
    "logits = torch.tensor([0.0, 5.0, 0.0, 0.0]) # high logit for 'c' token\n",
    "probs = torch.softmax(logits, dim=0)\n",
    "loss = -probs[2].log() # peek into the probability of the token 'c' appearing next and calculate the nll\n",
    "probs, loss"
   ]
  },
  {
   "cell_type": "markdown",
   "metadata": {},
   "source": [
    "- let's now experiment with logits drawn from gaussian distribution (0,1)\n",
    "    - if we try executing the below cell multiple times, we may get loss anywhere between (0,5-6)\n",
    "    - still okay as the logits will be somewhere between -3 and 3 mostly (6-sigma)"
   ]
  },
  {
   "cell_type": "code",
   "execution_count": 94,
   "metadata": {},
   "outputs": [
    {
     "data": {
      "text/plain": [
       "(tensor([ 1.6604,  0.3079, -0.4316,  0.8718]),\n",
       " tensor([0.5445, 0.1408, 0.0672, 0.2475]),\n",
       " tensor(2.6998))"
      ]
     },
     "execution_count": 94,
     "metadata": {},
     "output_type": "execute_result"
    }
   ],
   "source": [
    "logits = torch.randn(4) # values drawn from normal dist, hence mostly close to zero\n",
    "probs = torch.softmax(logits, dim=0)\n",
    "loss = -probs[2].log() # peek into the probability of the token 'c' appearing next and calculate the nll\n",
    "logits, probs, loss"
   ]
  },
  {
   "cell_type": "markdown",
   "metadata": {},
   "source": [
    "- if we use very extreme values (far away from 0), we might get very high/low loss"
   ]
  },
  {
   "cell_type": "code",
   "execution_count": 97,
   "metadata": {},
   "outputs": [
    {
     "data": {
      "text/plain": [
       "(tensor([11.3478,  3.8213,  2.0427,  1.5920]),\n",
       " tensor([9.9931e-01, 5.3826e-04, 9.0898e-05, 5.7919e-05]),\n",
       " tensor(9.3058))"
      ]
     },
     "execution_count": 97,
     "metadata": {},
     "output_type": "execute_result"
    }
   ],
   "source": [
    "logits = torch.randn(4)*10 # now logits mostly lie between [-30, 30] 6-sigma*10\n",
    "probs = torch.softmax(logits, dim=0)\n",
    "loss = -probs[2].log() # peek into the probability of the token 'c' appearing next and calculate the nll\n",
    "logits, probs, loss"
   ]
  },
  {
   "cell_type": "code",
   "execution_count": 102,
   "metadata": {},
   "outputs": [
    {
     "data": {
      "text/plain": [
       "(tensor([-41.6019, 195.6921, -70.2348,  61.4994]),\n",
       " tensor([0., 1., 0., 0.]),\n",
       " tensor(inf))"
      ]
     },
     "execution_count": 102,
     "metadata": {},
     "output_type": "execute_result"
    }
   ],
   "source": [
    "logits = torch.randn(4)*100 # now logits mostly lie between [-300, 300] 6-sigma*100\n",
    "probs = torch.softmax(logits, dim=0)\n",
    "loss = -probs[2].log() # peek into the probability of the token 'c' appearing next and calculate the nll\n",
    "logits, probs, loss"
   ]
  },
  {
   "cell_type": "markdown",
   "metadata": {},
   "source": [
    "Summary:\n",
    "- we want the logits to be equal initially to get the expected loss\n",
    "- can be any number (remember softmax in shift invariant! refer previous notebooks)\n",
    "- better to stick with 0 initialization"
   ]
  },
  {
   "cell_type": "markdown",
   "metadata": {},
   "source": [
    "#### Fix issue in model params"
   ]
  },
  {
   "cell_type": "markdown",
   "metadata": {},
   "source": [
    "from prev section:\n",
    "- we need to get the logits as close to 0 and as equal in magnitude as possible\n",
    "- how can we achieve this?\n",
    "    - observe the computation of logits\n",
    "    - logits = \n",
    "    - setting the last layer weights and biases to 0 W2=b2=0 [this can lead to problems as discussed later in this notebook]\n",
    "    - instead set W2 to very low values close to 0 and b2 to exactly 0"
   ]
  },
  {
   "cell_type": "code",
   "execution_count": 112,
   "metadata": {},
   "outputs": [
    {
     "data": {
      "text/plain": [
       "11897"
      ]
     },
     "execution_count": 112,
     "metadata": {},
     "output_type": "execute_result"
    }
   ],
   "source": [
    "g = torch.Generator().manual_seed(66449941)\n",
    "vocab_size = len(vocab)\n",
    "emb_dimensions = 10\n",
    "hidden_layer_size = 200\n",
    "output_layer_size = vocab_size\n",
    "C = torch.randn((vocab_size, emb_dimensions), generator=g)\n",
    "W1 = torch.randn((block_size*emb_dimensions, hidden_layer_size), generator = g)\n",
    "b1 = torch.randn(hidden_layer_size, generator=g)\n",
    "W2 = torch.randn((hidden_layer_size, output_layer_size), generator = g)*0.01\n",
    "b2 = torch.randn((output_layer_size), generator = g)*0\n",
    "parameters = [C, W1, b1, W2, b2]\n",
    "\n",
    "for p in parameters:\n",
    "    p.requires_grad = True\n",
    "\n",
    "total_parameters = sum(p.nelement() for p in parameters)\n",
    "total_parameters"
   ]
  },
  {
   "cell_type": "code",
   "execution_count": 113,
   "metadata": {},
   "outputs": [
    {
     "name": "stdout",
     "output_type": "stream",
     "text": [
      "      0/ 200000: 3.2818\n",
      "  10000/ 200000: 1.9967\n",
      "  20000/ 200000: 2.1044\n",
      "  30000/ 200000: 2.3582\n",
      "  40000/ 200000: 2.5299\n",
      "  50000/ 200000: 2.3278\n",
      "  60000/ 200000: 1.9905\n",
      "  70000/ 200000: 2.2069\n",
      "  80000/ 200000: 2.1595\n",
      "  90000/ 200000: 2.5824\n",
      " 100000/ 200000: 1.9348\n",
      " 110000/ 200000: 2.0562\n",
      " 120000/ 200000: 2.4081\n",
      " 130000/ 200000: 2.2449\n",
      " 140000/ 200000: 2.0295\n",
      " 150000/ 200000: 1.7764\n",
      " 160000/ 200000: 1.9497\n",
      " 170000/ 200000: 1.5519\n",
      " 180000/ 200000: 1.8551\n",
      " 190000/ 200000: 2.0702\n"
     ]
    }
   ],
   "source": [
    "log_losses = []\n",
    "steps = []\n",
    "num_iterations = 200000\n",
    "mini_batch_size = 32\n",
    "\n",
    "for i in range(num_iterations):\n",
    "    # randomly sample minibatch indices\n",
    "    ix = torch.randint(0, Xtr.shape[0], (mini_batch_size,))\n",
    "    # forward pass\n",
    "    emb = C[Xtr[ix]]\n",
    "    a1 = torch.tanh((emb.view(-1, block_size*emb_dimensions) @ W1 + b1))\n",
    "    logits = a1 @ W2 + b2\n",
    "    loss = F.cross_entropy(logits, ytr[ix])\n",
    "    if i%10000==0:\n",
    "        print(f'{i:7d}/{num_iterations:7d}: {loss.item():.4f}') # 7d aligns the outputs for readability\n",
    "    # backward pass\n",
    "    for p in parameters:\n",
    "        p.grad = None\n",
    "    loss.backward()\n",
    "    learning_rate = 0.1 if i < num_iterations//2 else 0.01\n",
    "    for p in parameters:\n",
    "        p.data += -learning_rate*p.grad\n",
    "\n",
    "    steps.append(i)\n",
    "    log_losses.append(torch.log10(loss).item())"
   ]
  },
  {
   "cell_type": "markdown",
   "metadata": {},
   "source": [
    "- we got a initial loss close to the expected worst case loss!"
   ]
  },
  {
   "cell_type": "code",
   "execution_count": 115,
   "metadata": {},
   "outputs": [
    {
     "data": {
      "text/plain": [
       "tensor([ 2.5992,  3.6125,  3.3218, -0.4748, -1.2843,  3.0023, -2.8475,  0.8144,\n",
       "        -3.0743,  3.7589, -1.1597, -2.9218, -0.8701,  2.4202, -0.1275,  3.5110,\n",
       "         0.8811, -3.5731,  1.0918,  0.4604, -3.5638,  1.6311, -3.7558, -2.9542,\n",
       "        -2.7588,  1.4990,  0.5648], grad_fn=<SelectBackward0>)"
      ]
     },
     "execution_count": 115,
     "metadata": {},
     "output_type": "execute_result"
    }
   ],
   "source": [
    "# scrutinize the logits for 1st example\n",
    "logits[0]"
   ]
  },
  {
   "cell_type": "markdown",
   "metadata": {},
   "source": [
    "- small numbers close to zero as expected\n",
    "- let's also visualize the log loss plot with steps"
   ]
  },
  {
   "cell_type": "code",
   "execution_count": 114,
   "metadata": {},
   "outputs": [
    {
     "data": {
      "text/plain": [
       "[<matplotlib.lines.Line2D at 0x2c4914a8210>]"
      ]
     },
     "execution_count": 114,
     "metadata": {},
     "output_type": "execute_result"
    },
    {
     "data": {
      "image/png": "[encoded data removed]",
      "text/plain": [
       "<Figure size 640x480 with 1 Axes>"
      ]
     },
     "metadata": {},
     "output_type": "display_data"
    }
   ],
   "source": [
    "from matplotlib import pyplot as plt\n",
    "plt.plot(log_losses)"
   ]
  },
  {
   "cell_type": "markdown",
   "metadata": {},
   "source": [
    "- notice how the hockey stick like loss curve has changed to the unstable part only\n",
    "- because, earlier NN was able to squash the final logits and learn quickly in the initial iterations\n",
    "- now we took the easier part away by better param initialization\n",
    "- the hard part remains"
   ]
  },
  {
   "cell_type": "markdown",
   "metadata": {},
   "source": [
    "let's also check the dev loss"
   ]
  },
  {
   "cell_type": "code",
   "execution_count": 117,
   "metadata": {},
   "outputs": [
    {
     "data": {
      "text/plain": [
       "(2.064671516418457, 2.1371400356292725, 2.147270679473877)"
      ]
     },
     "execution_count": 117,
     "metadata": {},
     "output_type": "execute_result"
    }
   ],
   "source": [
    "evaluate('train'), evaluate('dev'), evaluate('test')"
   ]
  },
  {
   "cell_type": "markdown",
   "metadata": {},
   "source": [
    "the loss actually improved on all three splits!\n",
    "- mainly because we let the model focus more on the actual learning part\n",
    "- and not the logit squashing part\n",
    "- hence, initialization part has been taken care of"
   ]
  },
  {
   "attachments": {
    "image.png": {
     "image/png": "[encoded data removed]"
    }
   },
   "cell_type": "markdown",
   "metadata": {},
   "source": [
    "There is another problem in the NN:\n",
    "- the activations\n",
    "- we have used tanh activation function that maps Real numbers between -1 and 1\n",
    "- ![image.png](attachment:image.png)\n",
    "\n",
    "- notice how the activations would be mostly close to 1 and -1 if the tanh abs input value is >=2.5\n",
    "- this also means the gradients would be close to 0 and minimal updates to the NN params!"
   ]
  },
  {
   "cell_type": "markdown",
   "metadata": {},
   "source": [
    "## Activation issue\n",
    "- let's analyze the activations of the hidden layer for better intuition"
   ]
  },
  {
   "cell_type": "markdown",
   "metadata": {},
   "source": [
    "#### activations analysis thru dist, visualization"
   ]
  },
  {
   "cell_type": "code",
   "execution_count": 127,
   "metadata": {},
   "outputs": [
    {
     "data": {
      "text/plain": [
       "11897"
      ]
     },
     "execution_count": 127,
     "metadata": {},
     "output_type": "execute_result"
    }
   ],
   "source": [
    "g = torch.Generator().manual_seed(66449941)\n",
    "vocab_size = len(vocab)\n",
    "emb_dimensions = 10\n",
    "hidden_layer_size = 200\n",
    "output_layer_size = vocab_size\n",
    "C = torch.randn((vocab_size, emb_dimensions), generator=g)\n",
    "W1 = torch.randn((block_size*emb_dimensions, hidden_layer_size), generator = g)\n",
    "b1 = torch.randn(hidden_layer_size, generator=g)\n",
    "W2 = torch.randn((hidden_layer_size, output_layer_size), generator = g)*0.01\n",
    "b2 = torch.randn((output_layer_size), generator = g)*0\n",
    "parameters = [C, W1, b1, W2, b2]\n",
    "\n",
    "for p in parameters:\n",
    "    p.requires_grad = True\n",
    "\n",
    "total_parameters = sum(p.nelement() for p in parameters)\n",
    "total_parameters"
   ]
  },
  {
   "cell_type": "code",
   "execution_count": 128,
   "metadata": {},
   "outputs": [
    {
     "name": "stdout",
     "output_type": "stream",
     "text": [
      "      0/ 200000: 3.3376\n"
     ]
    }
   ],
   "source": [
    "\n",
    "log_losses = []\n",
    "steps = []\n",
    "num_iterations = 200000\n",
    "mini_batch_size = 32\n",
    "\n",
    "for i in range(num_iterations):\n",
    "    # randomly sample minibatch indices\n",
    "    ix = torch.randint(0, Xtr.shape[0], (mini_batch_size,))\n",
    "    # forward pass\n",
    "    emb = C[Xtr[ix]]\n",
    "    z1 = (emb.view(-1, block_size*emb_dimensions) @ W1 + b1)\n",
    "    a1 = torch.tanh(z1)\n",
    "    logits = a1 @ W2 + b2\n",
    "    loss = F.cross_entropy(logits, ytr[ix])\n",
    "    if i%10000==0:\n",
    "        print(f'{i:7d}/{num_iterations:7d}: {loss.item():.4f}') # 7d aligns the outputs for readability\n",
    "    break # to see the activations and analyze\n",
    "    # backward pass\n",
    "    for p in parameters:\n",
    "        p.grad = None\n",
    "    loss.backward()\n",
    "    learning_rate = 0.1 if i < num_iterations//2 else 0.01\n",
    "    for p in parameters:\n",
    "        p.data += -learning_rate*p.grad\n",
    "\n",
    "    steps.append(i)\n",
    "    log_losses.append(torch.log10(loss).item())"
   ]
  },
  {
   "cell_type": "code",
   "execution_count": 129,
   "metadata": {},
   "outputs": [
    {
     "data": {
      "text/plain": [
       "tensor([[ 1.0000,  0.3330, -0.9425,  ..., -0.9862, -1.0000, -0.9986],\n",
       "        [-0.8950,  0.9878,  0.9589,  ...,  0.4622, -0.9999,  0.7508],\n",
       "        [ 0.9901, -0.9997, -0.9976,  ...,  0.9999, -1.0000, -0.9996],\n",
       "        ...,\n",
       "        [-1.0000,  1.0000,  0.9999,  ...,  0.9912,  1.0000, -1.0000],\n",
       "        [-0.9997, -0.8327,  0.9912,  ...,  1.0000, -1.0000, -0.9464],\n",
       "        [-1.0000, -0.9999,  1.0000,  ..., -0.9973, -1.0000, -0.6694]],\n",
       "       grad_fn=<TanhBackward0>)"
      ]
     },
     "execution_count": 129,
     "metadata": {},
     "output_type": "execute_result"
    }
   ],
   "source": [
    "# activations - see how most of them are close to one\n",
    "a1"
   ]
  },
  {
   "cell_type": "code",
   "execution_count": 130,
   "metadata": {},
   "outputs": [
    {
     "data": {
      "image/png": "[encoded data removed]",
      "text/plain": [
       "<Figure size 640x480 with 1 Axes>"
      ]
     },
     "metadata": {},
     "output_type": "display_data"
    }
   ],
   "source": [
    "# drawing histogram\n",
    "activations = a1.view(-1).tolist()\n",
    "plt.hist(activations, bins = 50); # semi-colon suppresses the unwanted output"
   ]
  },
  {
   "cell_type": "markdown",
   "metadata": {},
   "source": [
    "why mostly close to 1 or -1?\n",
    "- check tanh input dist"
   ]
  },
  {
   "cell_type": "code",
   "execution_count": 131,
   "metadata": {},
   "outputs": [
    {
     "data": {
      "image/png": "[encoded data removed]",
      "text/plain": [
       "<Figure size 640x480 with 1 Axes>"
      ]
     },
     "metadata": {},
     "output_type": "display_data"
    }
   ],
   "source": [
    "plt.hist(z1.view(-1).tolist(), 50);"
   ]
  },
  {
   "cell_type": "code",
   "execution_count": 143,
   "metadata": {},
   "outputs": [
    {
     "data": {
      "text/plain": [
       "(4146, 6400)"
      ]
     },
     "execution_count": 143,
     "metadata": {},
     "output_type": "execute_result"
    }
   ],
   "source": [
    "# number of abs values greater than 2.5\n",
    "total_preactivations = z1.view(-1).shape[0]\n",
    "tail_region_preactivations = torch.where(torch.abs(z1.view(-1)) > 2.5)[0].shape[0]\n",
    "tail_region_preactivations, total_preactivations"
   ]
  },
  {
   "cell_type": "markdown",
   "metadata": {},
   "source": [
    "- range of values of the pre-activations is very broad [-15, 15]\n",
    "- majority lie in the tail/flat region of tanh as seen in prev cell"
   ]
  },
  {
   "cell_type": "code",
   "execution_count": 147,
   "metadata": {},
   "outputs": [
    {
     "data": {
      "text/plain": [
       "<matplotlib.image.AxesImage at 0x2c49a1ec510>"
      ]
     },
     "execution_count": 147,
     "metadata": {},
     "output_type": "execute_result"
    },
    {
     "data": {
      "image/png": "[encoded data removed]",
      "text/plain": [
       "<Figure size 2000x1000 with 1 Axes>"
      ]
     },
     "metadata": {},
     "output_type": "display_data"
    }
   ],
   "source": [
    "# we an even visualize the activations in a better way\n",
    "plt.figure(figsize=(20,10))\n",
    "plt.imshow(a1.abs()>0.99, cmap='gray', interpolation='nearest') # white means how many activations are close to 1\n",
    "# 32x200 sized boolean tensor of activation absolute values > 0.99"
   ]
  },
  {
   "cell_type": "markdown",
   "metadata": {},
   "source": [
    "majority are whites\n",
    "- this represents 32 examples in the minibatch and the 200 neurons in hidden layer\n",
    "- if by any chance the weights and biases are initialized such that \n",
    "- one of the neurons has activations 1 for all the examples, that neuron won't be learning!!\n",
    "- dL/dz = (dL/da)*(da/dz) = (dL/da)*0.00000000001 ~ 0\n",
    "- z = z - dL/dz; z = z => hence, the weights and biases coming in to this neuron won't update => DEAD NEURON\n",
    "- not only the gradient part, but for some activation functions like ReLU, if the learning rate is too high, some activations might get knocked out into the flat region leading to permanent damage [no learning ever after]"
   ]
  },
  {
   "cell_type": "markdown",
   "metadata": {},
   "source": [
    "#### How do we solve for this issue?\n",
    "- similar to previous issue, where we set the weights and biases so that logits are closer to 0 and more uniform\n",
    "- we would set the weights and biases leading to the pre-activations to lower values close to 0\n",
    "- this would force pre-activations closer to 0 [-1, 1] and hence push activations in the active region of tanh"
   ]
  },
  {
   "cell_type": "code",
   "execution_count": 159,
   "metadata": {},
   "outputs": [
    {
     "data": {
      "text/plain": [
       "11897"
      ]
     },
     "execution_count": 159,
     "metadata": {},
     "output_type": "execute_result"
    }
   ],
   "source": [
    "g = torch.Generator().manual_seed(66449941)\n",
    "vocab_size = len(vocab)\n",
    "emb_dimensions = 10\n",
    "hidden_layer_size = 200\n",
    "output_layer_size = vocab_size\n",
    "C = torch.randn((vocab_size, emb_dimensions), generator=g)\n",
    "W1 = torch.randn((block_size*emb_dimensions, hidden_layer_size), generator = g)*0.2\n",
    "b1 = torch.randn(hidden_layer_size, generator=g)*0.01\n",
    "W2 = torch.randn((hidden_layer_size, output_layer_size), generator = g)*0.01\n",
    "b2 = torch.randn((output_layer_size), generator = g)*0\n",
    "parameters = [C, W1, b1, W2, b2]\n",
    "\n",
    "for p in parameters:\n",
    "    p.requires_grad = True\n",
    "\n",
    "total_parameters = sum(p.nelement() for p in parameters)\n",
    "total_parameters"
   ]
  },
  {
   "cell_type": "code",
   "execution_count": 154,
   "metadata": {},
   "outputs": [
    {
     "name": "stdout",
     "output_type": "stream",
     "text": [
      "      0/ 200000: 3.3022\n"
     ]
    }
   ],
   "source": [
    "\n",
    "log_losses = []\n",
    "steps = []\n",
    "num_iterations = 200000\n",
    "mini_batch_size = 32\n",
    "\n",
    "for i in range(num_iterations):\n",
    "    # randomly sample minibatch indices\n",
    "    ix = torch.randint(0, Xtr.shape[0], (mini_batch_size,))\n",
    "    # forward pass\n",
    "    emb = C[Xtr[ix]]\n",
    "    z1 = (emb.view(-1, block_size*emb_dimensions) @ W1 + b1)\n",
    "    a1 = torch.tanh(z1)\n",
    "    logits = a1 @ W2 + b2\n",
    "    loss = F.cross_entropy(logits, ytr[ix])\n",
    "    if i%10000==0:\n",
    "        print(f'{i:7d}/{num_iterations:7d}: {loss.item():.4f}') # 7d aligns the outputs for readability\n",
    "    break # to see the activations and analyze\n",
    "    # backward pass\n",
    "    for p in parameters:\n",
    "        p.grad = None\n",
    "    loss.backward()\n",
    "    learning_rate = 0.1 if i < num_iterations//2 else 0.01\n",
    "    for p in parameters:\n",
    "        p.data += -learning_rate*p.grad\n",
    "\n",
    "    steps.append(i)\n",
    "    log_losses.append(torch.log10(loss).item())"
   ]
  },
  {
   "cell_type": "code",
   "execution_count": 155,
   "metadata": {},
   "outputs": [
    {
     "data": {
      "image/png": "[encoded data removed]",
      "text/plain": [
       "<Figure size 640x480 with 1 Axes>"
      ]
     },
     "metadata": {},
     "output_type": "display_data"
    }
   ],
   "source": [
    "plt.hist(a1.view(-1).tolist(), bins = 50);"
   ]
  },
  {
   "cell_type": "code",
   "execution_count": 156,
   "metadata": {},
   "outputs": [
    {
     "data": {
      "image/png": "[encoded data removed]",
      "text/plain": [
       "<Figure size 640x480 with 1 Axes>"
      ]
     },
     "metadata": {},
     "output_type": "display_data"
    }
   ],
   "source": [
    "plt.hist(z1.view(-1).tolist(), 50);"
   ]
  },
  {
   "cell_type": "code",
   "execution_count": 158,
   "metadata": {},
   "outputs": [
    {
     "data": {
      "text/plain": [
       "<matplotlib.image.AxesImage at 0x2c4a0945610>"
      ]
     },
     "execution_count": 158,
     "metadata": {},
     "output_type": "execute_result"
    },
    {
     "data": {
      "image/png": "[encoded data removed]",
      "text/plain": [
       "<Figure size 2000x1000 with 1 Axes>"
      ]
     },
     "metadata": {},
     "output_type": "display_data"
    }
   ],
   "source": [
    "plt.figure(figsize=(20,10))\n",
    "plt.imshow(a1>0.99, cmap='gray', interpolation='nearest')"
   ]
  },
  {
   "cell_type": "markdown",
   "metadata": {},
   "source": [
    "- most activations are now in active region\n",
    "- let's retrain the model with this config now"
   ]
  },
  {
   "cell_type": "markdown",
   "metadata": {},
   "source": [
    "#### re-training post activation fix"
   ]
  },
  {
   "cell_type": "code",
   "execution_count": 160,
   "metadata": {},
   "outputs": [
    {
     "name": "stdout",
     "output_type": "stream",
     "text": [
      "      0/ 200000: 3.3095\n",
      "  10000/ 200000: 2.4105\n",
      "  20000/ 200000: 2.1044\n",
      "  30000/ 200000: 2.1873\n",
      "  40000/ 200000: 1.8532\n",
      "  50000/ 200000: 1.8612\n",
      "  60000/ 200000: 2.0871\n",
      "  70000/ 200000: 2.0384\n",
      "  80000/ 200000: 2.3845\n",
      "  90000/ 200000: 1.7818\n",
      " 100000/ 200000: 1.9241\n",
      " 110000/ 200000: 2.1661\n",
      " 120000/ 200000: 2.0970\n",
      " 130000/ 200000: 2.3377\n",
      " 140000/ 200000: 1.9109\n",
      " 150000/ 200000: 2.1244\n",
      " 160000/ 200000: 2.0043\n",
      " 170000/ 200000: 1.5509\n",
      " 180000/ 200000: 2.2036\n",
      " 190000/ 200000: 2.3006\n"
     ]
    }
   ],
   "source": [
    "\n",
    "log_losses = []\n",
    "steps = []\n",
    "num_iterations = 200000\n",
    "mini_batch_size = 32\n",
    "\n",
    "for i in range(num_iterations):\n",
    "    # randomly sample minibatch indices\n",
    "    ix = torch.randint(0, Xtr.shape[0], (mini_batch_size,))\n",
    "    # forward pass\n",
    "    emb = C[Xtr[ix]]\n",
    "    z1 = (emb.view(-1, block_size*emb_dimensions) @ W1 + b1)\n",
    "    a1 = torch.tanh(z1)\n",
    "    logits = a1 @ W2 + b2\n",
    "    loss = F.cross_entropy(logits, ytr[ix])\n",
    "    if i%10000==0:\n",
    "        print(f'{i:7d}/{num_iterations:7d}: {loss.item():.4f}') # 7d aligns the outputs for readability\n",
    "\n",
    "    # backward pass\n",
    "    for p in parameters:\n",
    "        p.grad = None\n",
    "    loss.backward()\n",
    "    learning_rate = 0.1 if i < num_iterations//2 else 0.01\n",
    "    for p in parameters:\n",
    "        p.data += -learning_rate*p.grad\n",
    "\n",
    "    steps.append(i)\n",
    "    log_losses.append(torch.log10(loss).item())"
   ]
  },
  {
   "cell_type": "code",
   "execution_count": 161,
   "metadata": {},
   "outputs": [
    {
     "data": {
      "text/plain": [
       "[<matplotlib.lines.Line2D at 0x2c4a0769250>]"
      ]
     },
     "execution_count": 161,
     "metadata": {},
     "output_type": "execute_result"
    },
    {
     "data": {
      "image/png": "[encoded data removed]",
      "text/plain": [
       "<Figure size 640x480 with 1 Axes>"
      ]
     },
     "metadata": {},
     "output_type": "display_data"
    }
   ],
   "source": [
    "plt.plot(log_losses)"
   ]
  },
  {
   "cell_type": "code",
   "execution_count": 162,
   "metadata": {},
   "outputs": [
    {
     "data": {
      "text/plain": [
       "(2.036219835281372, 2.109724283218384, 2.118234395980835)"
      ]
     },
     "execution_count": 162,
     "metadata": {},
     "output_type": "execute_result"
    }
   ],
   "source": [
    "evaluate('train'), evaluate('dev'), evaluate('test')"
   ]
  },
  {
   "cell_type": "markdown",
   "metadata": {},
   "source": [
    "Losses on train/dev:\n",
    "- stage:             train,  dev\n",
    "- initial:           2.12,   2.17\n",
    "- logits fix:        2.07,   2.14\n",
    "- activations fix:   2.04,   2.11"
   ]
  },
  {
   "cell_type": "markdown",
   "metadata": {},
   "source": [
    "we have made improvements but we are heavily dependent on scaling the initialized parameters. We came up with random set of scaling factors which obviously is not the best way to solve these issues.\n",
    "- Let's look at how we can account for this much elegantly"
   ]
  },
  {
   "cell_type": "markdown",
   "metadata": {},
   "source": [
    "## Kaiming Normalization"
   ]
  },
  {
   "cell_type": "markdown",
   "metadata": {},
   "source": [
    "#### Proof of concept"
   ]
  },
  {
   "cell_type": "code",
   "execution_count": 164,
   "metadata": {},
   "outputs": [
    {
     "name": "stdout",
     "output_type": "stream",
     "text": [
      "tensor(-0.0094) tensor(0.9982)\n",
      "tensor(0.0038) tensor(3.1372)\n"
     ]
    },
    {
     "data": {
      "image/png": "[encoded data removed]",
      "text/plain": [
       "<Figure size 2000x500 with 2 Axes>"
      ]
     },
     "metadata": {},
     "output_type": "display_data"
    }
   ],
   "source": [
    "x = torch.randn(1000, 10) # 1000 examples drawn from gaussian; 10d input\n",
    "w = torch.randn(10, 200) # gaussian weights 10; 200 output size\n",
    "y = x@w\n",
    "print(x.mean(), x.std())\n",
    "print(y.mean(), y.std())\n",
    "plt.figure(figsize=(20, 5))\n",
    "plt.subplot(121)\n",
    "plt.hist(x.view(-1).tolist(), 50, density = True);\n",
    "plt.subplot(122)\n",
    "plt.hist(y.view(-1).tolist(), 50, density = True);"
   ]
  },
  {
   "cell_type": "markdown",
   "metadata": {},
   "source": [
    "- x mean is 0 and std 1 which is expected\n",
    "- y mean is 0 as x@w is symmetric operation\n",
    "- but y std is 3 => broader gaussian\n",
    "- what we want is unit gaussians throughout the network to ensure we hit the active regions of the activation functions\n",
    "- we have seen earlier, scaling down the weights w can solve this issue\n",
    "- but what is the scaling factor?"
   ]
  },
  {
   "cell_type": "code",
   "execution_count": 169,
   "metadata": {},
   "outputs": [
    {
     "name": "stdout",
     "output_type": "stream",
     "text": [
      "tensor(-0.0124) tensor(0.9915)\n",
      "tensor(0.0015) tensor(1.0097)\n"
     ]
    },
    {
     "data": {
      "image/png": "[encoded data removed]",
      "text/plain": [
       "<Figure size 2000x500 with 2 Axes>"
      ]
     },
     "metadata": {},
     "output_type": "display_data"
    }
   ],
   "source": [
    "x = torch.randn(1000, 10) # 1000 examples drawn from gaussian; 10d input\n",
    "w = torch.randn(10, 200)*(1/10**0.5) # gaussian weights input size 10; 200 output size\n",
    "y = x@w\n",
    "print(x.mean(), x.std())\n",
    "print(y.mean(), y.std())\n",
    "plt.figure(figsize=(20, 5))\n",
    "plt.subplot(121)\n",
    "plt.hist(x.view(-1).tolist(), 50, density = True);\n",
    "plt.subplot(122)\n",
    "plt.hist(y.view(-1).tolist(), 50, density = True);"
   ]
  },
  {
   "cell_type": "markdown",
   "metadata": {},
   "source": [
    "- scaling factor of 0.2 reduced the std to 0.62 which is too low\n",
    "- scaling factor of 0.6 lead to std = 1.9 too high\n",
    "- how do we find the sweet spot for scaling factor??\n",
    "- one idea is kaiming scaling of either activations or gradients in forward or bacward pass respectively [refer paper]\n",
    "- kaiming normalization factor in forward pass = activation_gain/(fan_in_layre_size**0.5)\n",
    "- activation_gain is specific to the activation function\n",
    "- above example is linear activation/no activation, hence the gain is 1 and factor is 1/(10**0.5)\n",
    "- now the std of y's comes out to be 1"
   ]
  },
  {
   "cell_type": "markdown",
   "metadata": {},
   "source": [
    "gain for tanh is 5/3; fan-in is emb_dimension*block_size\n",
    "- comes out to be 0.3 which is very close to 0.2 that we tried out\n",
    "- hence no point in re-training, we would get similar results"
   ]
  },
  {
   "cell_type": "markdown",
   "metadata": {},
   "source": [
    "## Batch Normalization"
   ]
  },
  {
   "cell_type": "code",
   "execution_count": null,
   "metadata": {},
   "outputs": [],
   "source": [
    "# video timestamp 40.37"
   ]
  }
 ],
 "metadata": {
  "kernelspec": {
   "display_name": "Python 3",
   "language": "python",
   "name": "python3"
  },
  "language_info": {
   "codemirror_mode": {
    "name": "ipython",
    "version": 3
   },
   "file_extension": ".py",
   "mimetype": "text/x-python",
   "name": "python",
   "nbconvert_exporter": "python",
   "pygments_lexer": "ipython3",
   "version": "3.11.9"
  }
 },
 "nbformat": 4,
 "nbformat_minor": 2
}
